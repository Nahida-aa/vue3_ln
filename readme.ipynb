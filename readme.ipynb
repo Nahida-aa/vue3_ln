{
 "cells": [
  {
   "cell_type": "markdown",
   "metadata": {},
   "source": [
    "# Vue3 learn\n",
    "TS/Vue3/Vite\n",
    "\n",
    "```sh\n",
    "pnpm install\n",
    "pnpm run dev:%PLATFORM%\n",
    "pnpm run dev:h5\n",
    "pnpm run dev:mp-weixin\n",
    "```\n",
    "\n",
    "![图 0](./src/static/images/bd65258026bb636d628360a27c68e6a45ac4c9f14137f93cbda50e986354cd33.png)  \n"
   ]
  },
  {
   "cell_type": "markdown",
   "metadata": {},
   "source": [
    "## project structure\n"
   ]
  },
  {
   "cell_type": "markdown",
   "metadata": {},
   "source": [
    "### vite.config.ts\n",
    "配置自动导入组件\n",
    "\n",
    "省去重复写\n",
    "```vue\n",
    "<script setup>\n",
    "import { ref, computed, ... } from 'vue'\n",
    "import { onLoad, onReady, ... } from '@dcloudio/uni-app'\n",
    "</script>\n",
    "```\n",
    "不建议使用此插件\n",
    "**step:**\n",
    "1. 安装 `unplugin-auto-import`\n",
    "```sh\n",
    "# -D 表示添加到devDependencies\n",
    "pnpm add -D unplugin-auto-import\n",
    "pnpm install unplugin-auto-import\n",
    "```\n",
    "2. 配置 `vite.config.ts`\n",
    "```ts\n",
    "import { defineConfig } from 'vite'\n",
    "import uni from '@dcloudio/vite-plugin-uni'\n",
    "import AutoImport from 'unplugin-auto-import/vite'\n",
    "\n",
    "// https://vitejs.dev/config/\n",
    "export default defineConfig({\n",
    "  plugin: [\n",
    "    uni(),\n",
    "    AutoImport({\n",
    "      imports:[\n",
    "        'vue',\n",
    "        'uni-app'\n",
    "      ]\n",
    "    })\n",
    "  ]\n",
    "})\n",
    "```"
   ]
  },
  {
   "cell_type": "markdown",
   "metadata": {},
   "source": [
    "## 组件(Components)\n",
    "标签的超集\n",
    "\n",
    "- view ~ div\n",
    "- text ~ span\n",
    "\n",
    "### view\n",
    "| 属性 | 类型 | 默认值 | 说明 |\n",
    "| --- | --- | --- | --- |\n",
    "| hover-class | string | none | 指定按下去的样式类。当hover-class=\"none\"时，没有点击态效果 |\n",
    "| hover-stop-propagation | boolean | false | 指定是否阻止本节点的祖先节点出现点击态, App,h5,zfb_mp,bd_mp不支持 |\n",
    "| hover-start-time | number | 50 | 按住后多久出现点击态，单位毫秒 |\n",
    "| hover-stay-time | number | 400 | 手指松开后点击态保留时间，单位毫秒 |\n",
    "\n",
    "### text\n",
    "| 属性 | 类型 | 默认值 | 说明 | 平台差异 |\n",
    "| --- | --- | --- | --- | --- |\n",
    "| selectable | boolean | false | 文本是否可选 | |\n",
    "| user-select | boolean | false | 文本是否可选 | mp-weiwin |\n",
    "| space | string | false | 显示连续空格 | mp-dingding 不支持 |\n",
    "| decode | boolean | false | 是否解码 | mp-baidu, mp-dingding 不支持 |\n",
    "\n",
    "space:\n",
    "| 值 | 说明 |\n",
    "| --- | --- |\n",
    "| ensp | 中文字符宽度的一半 |\n",
    "| emsp | 中文字符宽度的一个字符 |\n",
    "| nbsp | 根据字体设置的空格大小 |"
   ]
  },
  {
   "cell_type": "markdown",
   "metadata": {},
   "source": [
    "### scroll-view"
   ]
  },
  {
   "cell_type": "markdown",
   "metadata": {},
   "source": [
    "### swiper\n",
    "滑块视图容器\n",
    "| 属性 | 类型 | 默认值 | 说明 |\n",
    "| --- | --- | --- | --- |\n",
    "| indicator-dots | boolean | false | 是否显示面板指示点 |\n",
    "| indicator-color | string | rgba(0, 0, 0, .3) | 指示点颜色 |\n",
    "| indicator-active-color | string | #000000 | 当前选中的指示点颜色 |\n",
    "| autoplay | boolean | false | 是否自动切换 |\n",
    "| current | number | 0 | 当前所在滑块的 index |\n",
    "| interval | number | 5000 | 自动切换时间间隔 |\n",
    "| duration | number | 500 | 滑动动画时长 |\n",
    "| circular | boolean | false | 是否采用衔接滑动(循环,周期) |\n",
    "| vertical | boolean | false | 滑动方向是否为纵向 |"
   ]
  },
  {
   "cell_type": "markdown",
   "metadata": {},
   "source": [
    "### 媒体组件\n",
    "\n",
    "#### image\n",
    "| 属性 | 类型 | 默认值 | 说明 |\n",
    "| --- | --- | --- | --- |\n",
    "| src | string | | 图片资源地址 |\n",
    "| mode | string | scaleToFill | 图片裁剪、缩放的模式 |\n",
    "| lazy-load | boolean | false | 图片懒加载 |\n",
    "| fade-show | boolean | false | 图片显示时是否使用渐显动画 |\n",
    "| webp | boolean | false | 支持webp格式(if有的系统不支持) |\n",
    "\n",
    "mode\n",
    "| 值 | 说明 |\n",
    "| --- | --- |\n",
    "| scaleToFill | 不保持纵横比缩放图片，使图片填满元素 |\n",
    "| aspectFit | 保持纵横比缩放图片，使图片的长边能完全显示出来 |\n",
    "| aspectFill | 保持纵横比缩放图片，只保证图片的短边能完全显示出来 |\n",
    "| widthFix | 宽度不变，高度自动变化，保持原图宽高比不变 |\n",
    "| heightFix | 高度不变，宽度自动变化，保持原图宽高比不变 |"
   ]
  },
  {
   "cell_type": "markdown",
   "metadata": {},
   "source": [
    "### navigator\n",
    "类似HTML中的<a>组件，但只能跳转本地页面。目标页面必须在pages.json中注册"
   ]
  },
  {
   "cell_type": "markdown",
   "metadata": {},
   "source": [
    "### button"
   ]
  },
  {
   "cell_type": "markdown",
   "metadata": {},
   "source": [
    "## custom component\n",
    "[/src/components/UserInfo/UserInfo.vue](./src/components/UserInfo/UserInfo.vue)"
   ]
  },
  {
   "cell_type": "markdown",
   "metadata": {},
   "source": [
    "### props\n"
   ]
  },
  {
   "cell_type": "markdown",
   "metadata": {},
   "source": [
    "### 插槽 Slots\n",
    "[/src/components/layout/layout.vue](./src/components/layout/layout.vue)"
   ]
  },
  {
   "cell_type": "markdown",
   "metadata": {},
   "source": [
    "### tabBar"
   ]
  },
  {
   "cell_type": "markdown",
   "metadata": {},
   "source": [
    "## common\n",
    "\n",
    "/src/static/ 编译时一定被打包\n",
    "\n",
    "/src/common/ 只有被引用的才会在编译时被打包\n",
    "\n",
    "[/src/common/css/style.css](./src/common/css/style.css)\n",
    "```css\n",
    "view {\n",
    "  font-size: 40rpx;\n",
    "  box-sizing: border-box;\n",
    "}\n",
    "```\n",
    "\n",
    "将样式导入到组件中\n",
    "\n",
    "/src/App.vue\n",
    "```vue\n",
    "...\n",
    "<style>\n",
    "@import './common/css/style.css';\n",
    "</style>\n",
    "```\n",
    "\n",
    "[/src/common/scss/self.scss](./src/common/scss/self.scss)\n",
    "```scss\n",
    "// 暗蓝色发光字体\n",
    "$color_blue: #aac9fa;\n",
    "$text-shadow_blue: 1px 1px 12px #85cdff;\n",
    "```\n",
    "将样式导入 uni.scss\n",
    "\n",
    "[/src/uni.scss](./src/uni.scss)\n",
    "```scss\n",
    "...\n",
    "@import '@/common/scss/self.scss';\n",
    "```"
   ]
  },
  {
   "cell_type": "markdown",
   "metadata": {},
   "source": [
    "## css\n",
    "在 `content-box` 模式下，元素的总宽度和高度计算如下：\n",
    "\n",
    "- 总宽度 = 内容宽度 + 左右内边距 + 左右边框 = 200px + 20px * 2 + 10px * 2 = 260px\n",
    "- 总高度 = 内容高度 + 上下内边距 + 上下边框\n",
    "\n",
    "在 `border-box` 模式下，元素的总宽度和高度计算如下：\n",
    "\n",
    "- 总宽度 = 内容宽度（包括内边距和边框）= 200px\n",
    "- 总高度 = 内容高度（包括内边距和边框）"
   ]
  },
  {
   "cell_type": "markdown",
   "metadata": {},
   "source": [
    "### uni.scss\n",
    "内置了一些常用的样式变量，可以直接使用\n",
    "\n",
    "自定义，需要重新编译运行\n",
    "\n",
    "[/src/css/uni.scss](./src/css/uni.scss)"
   ]
  },
  {
   "cell_type": "markdown",
   "metadata": {},
   "source": [
    "## JavaScript (TypeScript)\n",
    "\n",
    "### setTimeout\n",
    "```js\n",
    "setTimeout(() => {\n",
    "  console.log('3s later run')\n",
    "}, 3000)\n",
    "```"
   ]
  },
  {
   "cell_type": "markdown",
   "metadata": {},
   "source": [
    "### 生命周期钩子函数\n",
    "\n"
   ]
  },
  {
   "cell_type": "markdown",
   "metadata": {},
   "source": [
    "## API\n",
    "\n",
    "### 显示消息提示框\n",
    "```vue\n",
    "<script setup>\n",
    "uni.showToast({\n",
    "  title: '成功',\n",
    "  icon: 'none',\n",
    "})\n",
    "</script>\n",
    "```\n",
    "\n",
    "### uni.showLoading\n",
    "显示 loading 提示框\n",
    "```vue\n",
    "<script setup>\n",
    "uni.showLoading({\n",
    "  title: '加载中',\n",
    "  // 用于防止用户操作, 一般不用\n",
    "  // mask: true\n",
    "  // 一般使用失败回调\n",
    "  fail: err => {\n",
    "    console.log(err)\n",
    "  }\n",
    "})\n",
    "</script>\n",
    "```\n",
    "### uni.showNavigationBarLoading\n",
    "在当前页面显示导航条加载动画\n",
    "```vue\n",
    "<script setup>\n",
    "uni.showNavigationBarLoading()\n",
    "</script>\n",
    "```\n",
    "### uni.setNavigationBarTitle\n",
    "动态设置当前页面的标题\n",
    "```vue\n",
    "<script setup>\n",
    "uni.setNavigationBarTitle({\n",
    "  title: '动态标题'\n",
    "})\n",
    "</script>\n",
    "```\n",
    "### uni.setNavigationBarColor\n",
    "设置页面导航条颜色\n",
    "```vue\n",
    "<script setup>\n",
    "uni.setNavigationBarColor({\n",
    "  backgroundColor: '#ffffff',\n",
    "  frontColor: '#000000',\n",
    "  animation: {\n",
    "    duration: 400,\n",
    "    timingFunc: 'easeIn'\n",
    "  }\n",
    "})\n",
    "</script>\n",
    "```\n",
    "### uni.hideHomeButton\n",
    "隐藏返回首页按钮，用于非tabBar页面\n",
    "```vue\n",
    "<script setup>\n",
    "uni.hideHomeButton()\n",
    "</script>\n",
    "```\n"
   ]
  },
  {
   "cell_type": "markdown",
   "metadata": {},
   "source": [
    "### uni.setTabBarItem\n",
    "动态设置 tabBar 某一项的内容\n",
    "```vue\n",
    "<script setup>\n",
    "uni.setTabBarItem({\n",
    "  index: 0,\n",
    "  text: 'text',\n",
    "  iconPath: 'iconPath',\n",
    "  selectedIconPath: 'selectedIconPath'\n",
    "})\n",
    "</script>\n",
    "```\n",
    "### uni.setTabBarBadge\n",
    "为 tabBar 某一项的右上角添加文本，例如那个红点\n",
    "\n",
    "要加到 App.vue 中，因为需要别人能全局看到\n",
    "```vue\n",
    "<script setup>\n",
    "onLaunch: function() {\n",
    "  console.log('App Launch')\n",
    "  uni.setTabBarBadge({\n",
    "    index: 1,\n",
    "    text: '33'\n",
    "  })\n",
    "}\n",
    "</script>\n",
    "```"
   ]
  },
  {
   "cell_type": "markdown",
   "metadata": {},
   "source": [
    "### uni.showModal\n",
    "显示模态对话框，多用于确认或取消操作，避免用户操作失误\n",
    "```vue\n",
    "<script setup>\n",
    "uni.showModal({\n",
    "  title: '提示',\n",
    "  content: '这是一个模态弹窗',\n",
    "  // 是否显示取消按钮\n",
    "  showCancel: true,\n",
    "  cancelText: '取消',\n",
    "  confirmText: '确定',\n",
    "  cancelColor: '#000000',\n",
    "  confirmColor: '#3CC51F',\n",
    "  // 是否显示输入框\n",
    "  editable: false,\n",
    "  success: res => {\n",
    "    if (res.confirm) {\n",
    "      console.log('用户点击确定')\n",
    "    } else if (res.cancel) {\n",
    "      console.log('用户点击取消')\n",
    "    }\n",
    "  }\n",
    "})\n",
    "</script>\n",
    "```\n",
    "### uni.showActionSheet\n",
    "从底部弹起的菜单列表，\n",
    "```vue\n",
    "<script setup>\n",
    "uni.showActionSheet({\n",
    "  itemList: ['高中', '大专', '本科', '硕士'],\n",
    "  itemColor: '#000000',\n",
    "  success: res => {\n",
    "    console.log(res.tapIndex)\n",
    "  }\n",
    "})\n",
    "</script>\n",
    "```"
   ]
  },
  {
   "cell_type": "markdown",
   "metadata": {},
   "source": [
    "## uni.request\n",
    "发起网络请求\n",
    "\n",
    "<https://uniapp.dcloud.io/api/request/request>\n",
    "\n",
    "<https://jsonplaceholder.typicode.com/>\n",
    "\n",
    "向服务器请求json数据\n",
    "```vue\n",
    "<script setup>\n",
    "import { ref } from 'vue'\n",
    "import { onMounted } from 'vue'\n",
    "import { uni } from '@dcloudio/uni-app'\n",
    "\n",
    "const data = ref([])\n",
    "onMounted(() => {\n",
    "  uni.request({\n",
    "    url: 'https://jsonplaceholder.typicode.com/posts',\n",
    "    // 写法1\n",
    "    success: res => {\n",
    "      console.log(res)\n",
    "      data.value = res.data\n",
    "    }\n",
    "  })\n",
    "\n",
    "  // 写法2 可以避免回调地狱\n",
    "  uni.request({\n",
    "    url: 'https://jsonplaceholder.typicode.com/posts',\n",
    "  }).then(res => {\n",
    "    console.log(res)\n",
    "    data.value = res.data\n",
    "  })\n",
    "\n",
    "  // 写法3 async/await\n",
    "  const res = await uni.request({\n",
    "    url: 'https://jsonplaceholder.typicode.com/posts',\n",
    "  })\n",
    "  console.log(res)\n",
    "  data.value = res.data\n",
    "})\n",
    "</script>\n",
    "```"
   ]
  },
  {
   "cell_type": "markdown",
   "metadata": {},
   "source": [
    "### lazy-load\n",
    "图片懒加载[mp]\n",
    "\n",
    "问题: 请求过多资源会增加服务器压力，影响页面性能\n",
    "\n",
    "解决方案: 图片不在视口范围内时，不加载图片，当图片进入视口范围内时，加载图片\n",
    "```vue\n",
    "<image lazy-load></image>\n",
    "```"
   ]
  },
  {
   "cell_type": "markdown",
   "metadata": {},
   "source": [
    "deploy"
   ]
  },
  {
   "cell_type": "markdown",
   "metadata": {},
   "source": [
    "## FIXME\n",
    "\n",
    "[./src/utils/system.d.ts](./src/utils/system.d.ts)\n",
    "```ts\n",
    "// src/utils/system.d.ts\n",
    "declare module '@/utils/system.js' {\n",
    "    export function getStatusBarHeight(): number;\n",
    "    export function getTitleBarHeight(): number;\n",
    "    export function getNavBarHeight(): number;\n",
    "    export function getLeftIconLeft(): number;\n",
    "}\n",
    "```"
   ]
  }
 ],
 "metadata": {
  "kernelspec": {
   "display_name": "base",
   "language": "python",
   "name": "python3"
  },
  "language_info": {
   "name": "python",
   "version": "3.12.4"
  }
 },
 "nbformat": 4,
 "nbformat_minor": 2
}
